{
 "cells": [
  {
   "cell_type": "code",
   "execution_count": 1,
   "metadata": {},
   "outputs": [],
   "source": [
    "#Monitoramento Vitor Luiz\n",
    "import pandas as pd\n",
    "from dash import Dash, html, dcc, callback, Input, Output\n",
    "import plotly.express as px\n",
    "import plotly.graph_objects as go\n",
    "import dash_daq as daq\n",
    "from dash.dependencies import Input, Output, State\n",
    "import plotly.io as pio\n",
    "import dash\n",
    "import dash_bootstrap_components as dbc\n",
    "from datetime import datetime, timezone\n",
    "from pytz import timezone\n",
    "from plotly.subplots import make_subplots\n",
    "import oficial_func as of"
   ]
  },
  {
   "cell_type": "code",
   "execution_count": null,
   "metadata": {},
   "outputs": [],
   "source": [
    "# HEX COLORS\n",
    "# https://htmlcolorcodes.com\n",
    "teste = \"#9C1FBD\"\n",
    "teste1 = \"#f70d1a\"\n",
    "teste2 = \"#EEEE0A\"\n",
    "teste3 = \"#3DEC0A\""
   ]
  },
  {
   "cell_type": "code",
   "execution_count": null,
   "metadata": {},
   "outputs": [],
   "source": [
    "df_UFF = of.importa_df(\"https://thingspeak.com/channels/1670099/\")\n",
    "df_UFF"
   ]
  },
  {
   "cell_type": "code",
   "execution_count": null,
   "metadata": {},
   "outputs": [],
   "source": [
    "#Candidatos a parâmetros da função\n",
    "n1_u3 = 30\n",
    "n2_u3 = 10\n",
    "diferença_u3 = -10\n",
    "col_u3 = \"Umidade3\""
   ]
  },
  {
   "cell_type": "code",
   "execution_count": null,
   "metadata": {},
   "outputs": [],
   "source": [
    "ultima_info = df_UFF.tail(1)\n",
    "print(ultima_info)\n",
    "ultima_info.describe\n",
    "ultima_info"
   ]
  },
  {
   "cell_type": "code",
   "execution_count": null,
   "metadata": {},
   "outputs": [],
   "source": [
    "ultima_info[col_u3]\n",
    "ultima_info.loc[ultima_info[col_u3] < 50, \"cor\"] = \"#9C1FBD\" #roxo\n",
    "ultima_info.loc[((ultima_info[col_u3] >= 50) & (ultima_info[col_u3] <= 100)), \"cor\"] = \"#f70d1a\" #vermelho\n",
    "ultima_info.loc[((ultima_info[col_u3] > 100) & (ultima_info[col_u3] <= 200)), \"cor\"] = \"#EEEE0A\" #amarelo\n",
    "ultima_info.loc[ultima_info[col_u3] > 200, \"cor\"] = \"#3DEC0A\" #verde\n",
    "print(ultima_info[col_u3])\n",
    "ultima_info[\"cor\"]"
   ]
  },
  {
   "cell_type": "code",
   "execution_count": null,
   "metadata": {},
   "outputs": [],
   "source": [
    "valor = ultima_info.iloc[0][\"cor\"]\n",
    "valor"
   ]
  },
  {
   "cell_type": "code",
   "execution_count": null,
   "metadata": {},
   "outputs": [],
   "source": [
    "media_n1 = df_UFF[col_u3].tail(n1_u3).mean()\n",
    "media_n2 = df_UFF[col_u3].tail(n2_u3).mean()\n",
    "\n",
    "print(media_n1)\n",
    "print(media_n2)\n",
    "\n",
    "media_n2 - media_n1"
   ]
  },
  {
   "cell_type": "code",
   "execution_count": null,
   "metadata": {},
   "outputs": [],
   "source": [
    "#Se a subtração das médias derem negativo significa que o valor de U3 está diminuindo e logo está piorando a situação\n",
    "if ((media_n2 - media_n1) <= diferença_u3):\n",
    "    if valor == \"#3DEC0A\": #Quando verde ele vai para amarelo\n",
    "        valor = \"#EEEE0A\"\n",
    "    elif valor == \"#EEEE0A\": #Quando amarelo vai para vermelho\n",
    "        valor = \"#f70d1a\"\n",
    "    elif valor == \"#f70d1a\": #Quando vermelho vai para roxo\n",
    "        valor = \"#9C1FBD\"\n",
    "    else:\n",
    "        valor = \"#9C1FBD\"\n",
    "\n",
    "valor"
   ]
  },
  {
   "cell_type": "code",
   "execution_count": null,
   "metadata": {},
   "outputs": [],
   "source": []
  }
 ],
 "metadata": {
  "kernelspec": {
   "display_name": "dash_monitoramento",
   "language": "python",
   "name": "python3"
  },
  "language_info": {
   "codemirror_mode": {
    "name": "ipython",
    "version": 3
   },
   "file_extension": ".py",
   "mimetype": "text/x-python",
   "name": "python",
   "nbconvert_exporter": "python",
   "pygments_lexer": "ipython3",
   "version": "3.9.16"
  },
  "orig_nbformat": 4,
  "vscode": {
   "interpreter": {
    "hash": "9674ca36b5cefb5b4e7975df884ce1bc6f86b42f4a12d5aa8960d552df62a2d0"
   }
  }
 },
 "nbformat": 4,
 "nbformat_minor": 2
}
