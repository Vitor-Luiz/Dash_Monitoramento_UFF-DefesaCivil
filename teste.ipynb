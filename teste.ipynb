{
 "cells": [
  {
   "cell_type": "code",
   "execution_count": 1,
   "metadata": {},
   "outputs": [],
   "source": [
    "#Monitoramento Vitor Luiz\n",
    "import pandas as pd\n",
    "from dash import Dash, html, dcc, callback, Input, Output\n",
    "import plotly.express as px\n",
    "import plotly.graph_objects as go\n",
    "import dash_daq as daq\n",
    "from dash.dependencies import Input, Output, State\n",
    "import plotly.io as pio\n",
    "import dash\n",
    "import dash_bootstrap_components as dbc\n",
    "from datetime import datetime, timezone\n",
    "from pytz import timezone\n",
    "from plotly.subplots import make_subplots\n",
    "import oficial_func as of"
   ]
  },
  {
   "cell_type": "code",
   "execution_count": 2,
   "metadata": {},
   "outputs": [],
   "source": [
    "# HEX COLORS\n",
    "# https://htmlcolorcodes.com\n",
    "teste = \"#9C1FBD\"\n",
    "teste1 = \"#f70d1a\"\n",
    "teste2 = \"#EEEE0A\"\n",
    "teste3 = \"#3DEC0A\""
   ]
  },
  {
   "cell_type": "code",
   "execution_count": 4,
   "metadata": {},
   "outputs": [
    {
     "name": "stdout",
     "output_type": "stream",
     "text": [
      "created_at    object\n",
      "entry_id       int64\n",
      "field1         int64\n",
      "field2         int64\n",
      "field3         int64\n",
      "field4         int64\n",
      "field5         int64\n",
      "field6         int64\n",
      "field7         int64\n",
      "dtype: object\n",
      "<bound method NDFrame.describe of                  created_at  entry_id  field1  field2  field3  field4  field5  \\\n",
      "0   2023-02-07 15:04:14 UTC     23084      -1      -1      -1    3653     164   \n",
      "1   2023-02-07 15:24:13 UTC     23085      -1      -1      -1    3653     158   \n",
      "2   2023-02-07 15:34:12 UTC     23086      -1      -1      -1    3653     166   \n",
      "3   2023-02-07 15:54:10 UTC     23087      -1      -1      -1    3653     166   \n",
      "4   2023-02-07 16:14:08 UTC     23088      -1      -1      -1    3653     160   \n",
      "..                      ...       ...     ...     ...     ...     ...     ...   \n",
      "95  2023-02-08 12:42:17 UTC     23179      -1      -1      -1    3653     113   \n",
      "96  2023-02-08 12:52:16 UTC     23180      -1      -1      -1    3653     105   \n",
      "97  2023-02-08 13:02:15 UTC     23181      -1      -1      -1    3653     105   \n",
      "98  2023-02-08 13:22:13 UTC     23182      -1      -1      -1    3653     107   \n",
      "99  2023-02-08 13:32:13 UTC     23183      -1      -1      -1    3653     107   \n",
      "\n",
      "    field6  field7  \n",
      "0      330     114  \n",
      "1      328     117  \n",
      "2      328     119  \n",
      "3      327     115  \n",
      "4      326     116  \n",
      "..     ...     ...  \n",
      "95     317      96  \n",
      "96     317      95  \n",
      "97     317      91  \n",
      "98     316      95  \n",
      "99     316      92  \n",
      "\n",
      "[100 rows x 9 columns]>\n"
     ]
    },
    {
     "data": {
      "text/html": [
       "<div>\n",
       "<style scoped>\n",
       "    .dataframe tbody tr th:only-of-type {\n",
       "        vertical-align: middle;\n",
       "    }\n",
       "\n",
       "    .dataframe tbody tr th {\n",
       "        vertical-align: top;\n",
       "    }\n",
       "\n",
       "    .dataframe thead th {\n",
       "        text-align: right;\n",
       "    }\n",
       "</style>\n",
       "<table border=\"1\" class=\"dataframe\">\n",
       "  <thead>\n",
       "    <tr style=\"text-align: right;\">\n",
       "      <th></th>\n",
       "      <th>Data</th>\n",
       "      <th>entry_id</th>\n",
       "      <th>Ax</th>\n",
       "      <th>Ay</th>\n",
       "      <th>Az</th>\n",
       "      <th>Temperatura</th>\n",
       "      <th>Umidade1</th>\n",
       "      <th>Umidade2</th>\n",
       "      <th>Umidade3</th>\n",
       "    </tr>\n",
       "    <tr>\n",
       "      <th>Data</th>\n",
       "      <th></th>\n",
       "      <th></th>\n",
       "      <th></th>\n",
       "      <th></th>\n",
       "      <th></th>\n",
       "      <th></th>\n",
       "      <th></th>\n",
       "      <th></th>\n",
       "      <th></th>\n",
       "    </tr>\n",
       "  </thead>\n",
       "  <tbody>\n",
       "    <tr>\n",
       "      <th>2023-02-07 12:04:14-03:00</th>\n",
       "      <td>2023-02-07 15:04:14+00:00</td>\n",
       "      <td>23084</td>\n",
       "      <td>-1</td>\n",
       "      <td>-1</td>\n",
       "      <td>-1</td>\n",
       "      <td>3653</td>\n",
       "      <td>164</td>\n",
       "      <td>330</td>\n",
       "      <td>114</td>\n",
       "    </tr>\n",
       "    <tr>\n",
       "      <th>2023-02-07 12:24:13-03:00</th>\n",
       "      <td>2023-02-07 15:24:13+00:00</td>\n",
       "      <td>23085</td>\n",
       "      <td>-1</td>\n",
       "      <td>-1</td>\n",
       "      <td>-1</td>\n",
       "      <td>3653</td>\n",
       "      <td>158</td>\n",
       "      <td>328</td>\n",
       "      <td>117</td>\n",
       "    </tr>\n",
       "    <tr>\n",
       "      <th>2023-02-07 12:34:12-03:00</th>\n",
       "      <td>2023-02-07 15:34:12+00:00</td>\n",
       "      <td>23086</td>\n",
       "      <td>-1</td>\n",
       "      <td>-1</td>\n",
       "      <td>-1</td>\n",
       "      <td>3653</td>\n",
       "      <td>166</td>\n",
       "      <td>328</td>\n",
       "      <td>119</td>\n",
       "    </tr>\n",
       "    <tr>\n",
       "      <th>2023-02-07 12:54:10-03:00</th>\n",
       "      <td>2023-02-07 15:54:10+00:00</td>\n",
       "      <td>23087</td>\n",
       "      <td>-1</td>\n",
       "      <td>-1</td>\n",
       "      <td>-1</td>\n",
       "      <td>3653</td>\n",
       "      <td>166</td>\n",
       "      <td>327</td>\n",
       "      <td>115</td>\n",
       "    </tr>\n",
       "    <tr>\n",
       "      <th>2023-02-07 13:14:08-03:00</th>\n",
       "      <td>2023-02-07 16:14:08+00:00</td>\n",
       "      <td>23088</td>\n",
       "      <td>-1</td>\n",
       "      <td>-1</td>\n",
       "      <td>-1</td>\n",
       "      <td>3653</td>\n",
       "      <td>160</td>\n",
       "      <td>326</td>\n",
       "      <td>116</td>\n",
       "    </tr>\n",
       "    <tr>\n",
       "      <th>...</th>\n",
       "      <td>...</td>\n",
       "      <td>...</td>\n",
       "      <td>...</td>\n",
       "      <td>...</td>\n",
       "      <td>...</td>\n",
       "      <td>...</td>\n",
       "      <td>...</td>\n",
       "      <td>...</td>\n",
       "      <td>...</td>\n",
       "    </tr>\n",
       "    <tr>\n",
       "      <th>2023-02-08 09:42:17-03:00</th>\n",
       "      <td>2023-02-08 12:42:17+00:00</td>\n",
       "      <td>23179</td>\n",
       "      <td>-1</td>\n",
       "      <td>-1</td>\n",
       "      <td>-1</td>\n",
       "      <td>3653</td>\n",
       "      <td>113</td>\n",
       "      <td>317</td>\n",
       "      <td>96</td>\n",
       "    </tr>\n",
       "    <tr>\n",
       "      <th>2023-02-08 09:52:16-03:00</th>\n",
       "      <td>2023-02-08 12:52:16+00:00</td>\n",
       "      <td>23180</td>\n",
       "      <td>-1</td>\n",
       "      <td>-1</td>\n",
       "      <td>-1</td>\n",
       "      <td>3653</td>\n",
       "      <td>105</td>\n",
       "      <td>317</td>\n",
       "      <td>95</td>\n",
       "    </tr>\n",
       "    <tr>\n",
       "      <th>2023-02-08 10:02:15-03:00</th>\n",
       "      <td>2023-02-08 13:02:15+00:00</td>\n",
       "      <td>23181</td>\n",
       "      <td>-1</td>\n",
       "      <td>-1</td>\n",
       "      <td>-1</td>\n",
       "      <td>3653</td>\n",
       "      <td>105</td>\n",
       "      <td>317</td>\n",
       "      <td>91</td>\n",
       "    </tr>\n",
       "    <tr>\n",
       "      <th>2023-02-08 10:22:13-03:00</th>\n",
       "      <td>2023-02-08 13:22:13+00:00</td>\n",
       "      <td>23182</td>\n",
       "      <td>-1</td>\n",
       "      <td>-1</td>\n",
       "      <td>-1</td>\n",
       "      <td>3653</td>\n",
       "      <td>107</td>\n",
       "      <td>316</td>\n",
       "      <td>95</td>\n",
       "    </tr>\n",
       "    <tr>\n",
       "      <th>2023-02-08 10:32:13-03:00</th>\n",
       "      <td>2023-02-08 13:32:13+00:00</td>\n",
       "      <td>23183</td>\n",
       "      <td>-1</td>\n",
       "      <td>-1</td>\n",
       "      <td>-1</td>\n",
       "      <td>3653</td>\n",
       "      <td>107</td>\n",
       "      <td>316</td>\n",
       "      <td>92</td>\n",
       "    </tr>\n",
       "  </tbody>\n",
       "</table>\n",
       "<p>100 rows × 9 columns</p>\n",
       "</div>"
      ],
      "text/plain": [
       "                                               Data  entry_id  Ax  Ay  Az  \\\n",
       "Data                                                                        \n",
       "2023-02-07 12:04:14-03:00 2023-02-07 15:04:14+00:00     23084  -1  -1  -1   \n",
       "2023-02-07 12:24:13-03:00 2023-02-07 15:24:13+00:00     23085  -1  -1  -1   \n",
       "2023-02-07 12:34:12-03:00 2023-02-07 15:34:12+00:00     23086  -1  -1  -1   \n",
       "2023-02-07 12:54:10-03:00 2023-02-07 15:54:10+00:00     23087  -1  -1  -1   \n",
       "2023-02-07 13:14:08-03:00 2023-02-07 16:14:08+00:00     23088  -1  -1  -1   \n",
       "...                                             ...       ...  ..  ..  ..   \n",
       "2023-02-08 09:42:17-03:00 2023-02-08 12:42:17+00:00     23179  -1  -1  -1   \n",
       "2023-02-08 09:52:16-03:00 2023-02-08 12:52:16+00:00     23180  -1  -1  -1   \n",
       "2023-02-08 10:02:15-03:00 2023-02-08 13:02:15+00:00     23181  -1  -1  -1   \n",
       "2023-02-08 10:22:13-03:00 2023-02-08 13:22:13+00:00     23182  -1  -1  -1   \n",
       "2023-02-08 10:32:13-03:00 2023-02-08 13:32:13+00:00     23183  -1  -1  -1   \n",
       "\n",
       "                           Temperatura  Umidade1  Umidade2  Umidade3  \n",
       "Data                                                                  \n",
       "2023-02-07 12:04:14-03:00         3653       164       330       114  \n",
       "2023-02-07 12:24:13-03:00         3653       158       328       117  \n",
       "2023-02-07 12:34:12-03:00         3653       166       328       119  \n",
       "2023-02-07 12:54:10-03:00         3653       166       327       115  \n",
       "2023-02-07 13:14:08-03:00         3653       160       326       116  \n",
       "...                                ...       ...       ...       ...  \n",
       "2023-02-08 09:42:17-03:00         3653       113       317        96  \n",
       "2023-02-08 09:52:16-03:00         3653       105       317        95  \n",
       "2023-02-08 10:02:15-03:00         3653       105       317        91  \n",
       "2023-02-08 10:22:13-03:00         3653       107       316        95  \n",
       "2023-02-08 10:32:13-03:00         3653       107       316        92  \n",
       "\n",
       "[100 rows x 9 columns]"
      ]
     },
     "execution_count": 4,
     "metadata": {},
     "output_type": "execute_result"
    }
   ],
   "source": [
    "df_UFF = of.importa_df(\"https://thingspeak.com/channels/1670099/\")\n",
    "df_UFF"
   ]
  },
  {
   "cell_type": "code",
   "execution_count": 5,
   "metadata": {},
   "outputs": [],
   "source": [
    "#Candidatos a parâmetros da função\n",
    "n1_u3 = 30\n",
    "n2_u3 = 10\n",
    "diferença_u3 = -10\n",
    "col_u3 = \"Umidade3\""
   ]
  },
  {
   "cell_type": "code",
   "execution_count": 6,
   "metadata": {},
   "outputs": [
    {
     "name": "stdout",
     "output_type": "stream",
     "text": [
      "                                               Data  entry_id  Ax  Ay  Az  \\\n",
      "Data                                                                        \n",
      "2023-02-08 10:32:13-03:00 2023-02-08 13:32:13+00:00     23183  -1  -1  -1   \n",
      "\n",
      "                           Temperatura  Umidade1  Umidade2  Umidade3  \n",
      "Data                                                                  \n",
      "2023-02-08 10:32:13-03:00         3653       107       316        92  \n"
     ]
    },
    {
     "data": {
      "text/html": [
       "<div>\n",
       "<style scoped>\n",
       "    .dataframe tbody tr th:only-of-type {\n",
       "        vertical-align: middle;\n",
       "    }\n",
       "\n",
       "    .dataframe tbody tr th {\n",
       "        vertical-align: top;\n",
       "    }\n",
       "\n",
       "    .dataframe thead th {\n",
       "        text-align: right;\n",
       "    }\n",
       "</style>\n",
       "<table border=\"1\" class=\"dataframe\">\n",
       "  <thead>\n",
       "    <tr style=\"text-align: right;\">\n",
       "      <th></th>\n",
       "      <th>Data</th>\n",
       "      <th>entry_id</th>\n",
       "      <th>Ax</th>\n",
       "      <th>Ay</th>\n",
       "      <th>Az</th>\n",
       "      <th>Temperatura</th>\n",
       "      <th>Umidade1</th>\n",
       "      <th>Umidade2</th>\n",
       "      <th>Umidade3</th>\n",
       "    </tr>\n",
       "    <tr>\n",
       "      <th>Data</th>\n",
       "      <th></th>\n",
       "      <th></th>\n",
       "      <th></th>\n",
       "      <th></th>\n",
       "      <th></th>\n",
       "      <th></th>\n",
       "      <th></th>\n",
       "      <th></th>\n",
       "      <th></th>\n",
       "    </tr>\n",
       "  </thead>\n",
       "  <tbody>\n",
       "    <tr>\n",
       "      <th>2023-02-08 10:32:13-03:00</th>\n",
       "      <td>2023-02-08 13:32:13+00:00</td>\n",
       "      <td>23183</td>\n",
       "      <td>-1</td>\n",
       "      <td>-1</td>\n",
       "      <td>-1</td>\n",
       "      <td>3653</td>\n",
       "      <td>107</td>\n",
       "      <td>316</td>\n",
       "      <td>92</td>\n",
       "    </tr>\n",
       "  </tbody>\n",
       "</table>\n",
       "</div>"
      ],
      "text/plain": [
       "                                               Data  entry_id  Ax  Ay  Az  \\\n",
       "Data                                                                        \n",
       "2023-02-08 10:32:13-03:00 2023-02-08 13:32:13+00:00     23183  -1  -1  -1   \n",
       "\n",
       "                           Temperatura  Umidade1  Umidade2  Umidade3  \n",
       "Data                                                                  \n",
       "2023-02-08 10:32:13-03:00         3653       107       316        92  "
      ]
     },
     "execution_count": 6,
     "metadata": {},
     "output_type": "execute_result"
    }
   ],
   "source": [
    "ultima_info = df_UFF.tail(1)\n",
    "print(ultima_info)\n",
    "ultima_info.describe\n",
    "ultima_info"
   ]
  },
  {
   "cell_type": "code",
   "execution_count": 7,
   "metadata": {},
   "outputs": [
    {
     "name": "stdout",
     "output_type": "stream",
     "text": [
      "Data\n",
      "2023-02-08 10:32:13-03:00    92\n",
      "Name: Umidade3, dtype: int64\n"
     ]
    },
    {
     "name": "stderr",
     "output_type": "stream",
     "text": [
      "C:\\Users\\DELL\\AppData\\Local\\Temp\\ipykernel_14120\\1789178163.py:2: SettingWithCopyWarning: \n",
      "A value is trying to be set on a copy of a slice from a DataFrame.\n",
      "Try using .loc[row_indexer,col_indexer] = value instead\n",
      "\n",
      "See the caveats in the documentation: https://pandas.pydata.org/pandas-docs/stable/user_guide/indexing.html#returning-a-view-versus-a-copy\n",
      "  ultima_info.loc[ultima_info[col_u3] < 50, \"cor\"] = \"#9C1FBD\" #roxo\n"
     ]
    },
    {
     "data": {
      "text/plain": [
       "Data\n",
       "2023-02-08 10:32:13-03:00    #f70d1a\n",
       "Name: cor, dtype: object"
      ]
     },
     "execution_count": 7,
     "metadata": {},
     "output_type": "execute_result"
    }
   ],
   "source": [
    "ultima_info[col_u3]\n",
    "ultima_info.loc[ultima_info[col_u3] < 50, \"cor\"] = \"#9C1FBD\" #roxo\n",
    "ultima_info.loc[((ultima_info[col_u3] >= 50) & (ultima_info[col_u3] <= 100)), \"cor\"] = \"#f70d1a\" #vermelho\n",
    "ultima_info.loc[((ultima_info[col_u3] > 100) & (ultima_info[col_u3] <= 200)), \"cor\"] = \"#EEEE0A\" #amarelo\n",
    "ultima_info.loc[ultima_info[col_u3] > 200, \"cor\"] = \"#3DEC0A\" #verde\n",
    "print(ultima_info[col_u3])\n",
    "ultima_info[\"cor\"]"
   ]
  },
  {
   "cell_type": "code",
   "execution_count": 8,
   "metadata": {},
   "outputs": [
    {
     "data": {
      "text/plain": [
       "'#f70d1a'"
      ]
     },
     "execution_count": 8,
     "metadata": {},
     "output_type": "execute_result"
    }
   ],
   "source": [
    "valor = ultima_info.iloc[0][\"cor\"]\n",
    "valor"
   ]
  },
  {
   "cell_type": "code",
   "execution_count": 9,
   "metadata": {},
   "outputs": [
    {
     "name": "stdout",
     "output_type": "stream",
     "text": [
      "91.26666666666667\n",
      "93.6\n"
     ]
    },
    {
     "data": {
      "text/plain": [
       "2.3333333333333286"
      ]
     },
     "execution_count": 9,
     "metadata": {},
     "output_type": "execute_result"
    }
   ],
   "source": [
    "media_n1 = df_UFF[col_u3].tail(n1_u3).mean()\n",
    "media_n2 = df_UFF[col_u3].tail(n2_u3).mean()\n",
    "\n",
    "print(media_n1)\n",
    "print(media_n2)\n",
    "\n",
    "media_n2 - media_n1"
   ]
  },
  {
   "cell_type": "code",
   "execution_count": 10,
   "metadata": {},
   "outputs": [
    {
     "data": {
      "text/plain": [
       "'#f70d1a'"
      ]
     },
     "execution_count": 10,
     "metadata": {},
     "output_type": "execute_result"
    }
   ],
   "source": [
    "#Se a subtração das médias derem negativo significa que o valor de U3 está diminuindo e logo está piorando a situação\n",
    "if ((media_n2 - media_n1) <= diferença_u3):\n",
    "    if valor == \"#3DEC0A\": #Quando verde ele vai para amarelo\n",
    "        valor = \"#EEEE0A\"\n",
    "    elif valor == \"#EEEE0A\": #Quando amarelo vai para vermelho\n",
    "        valor = \"#f70d1a\"\n",
    "    elif valor == \"#f70d1a\": #Quando vermelho vai para roxo\n",
    "        valor = \"#9C1FBD\"\n",
    "    else:\n",
    "        valor = \"#9C1FBD\"\n",
    "\n",
    "valor"
   ]
  },
  {
   "cell_type": "code",
   "execution_count": null,
   "metadata": {},
   "outputs": [],
   "source": []
  }
 ],
 "metadata": {
  "kernelspec": {
   "display_name": "dash_monitoramento",
   "language": "python",
   "name": "python3"
  },
  "language_info": {
   "codemirror_mode": {
    "name": "ipython",
    "version": 3
   },
   "file_extension": ".py",
   "mimetype": "text/x-python",
   "name": "python",
   "nbconvert_exporter": "python",
   "pygments_lexer": "ipython3",
   "version": "3.9.16"
  },
  "orig_nbformat": 4,
  "vscode": {
   "interpreter": {
    "hash": "9674ca36b5cefb5b4e7975df884ce1bc6f86b42f4a12d5aa8960d552df62a2d0"
   }
  }
 },
 "nbformat": 4,
 "nbformat_minor": 2
}
